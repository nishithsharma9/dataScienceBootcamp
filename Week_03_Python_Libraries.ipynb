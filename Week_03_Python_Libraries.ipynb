{
  "nbformat": 4,
  "nbformat_minor": 0,
  "metadata": {
    "colab": {
      "name": "Week_03-Python_Libraries.ipynb",
      "provenance": [],
      "toc_visible": true,
      "include_colab_link": true
    },
    "kernelspec": {
      "name": "python3",
      "display_name": "Python 3"
    },
    "language_info": {
      "name": "python"
    }
  },
  "cells": [
    {
      "cell_type": "markdown",
      "metadata": {
        "id": "view-in-github",
        "colab_type": "text"
      },
      "source": [
        "<a href=\"https://colab.research.google.com/github/nishithsharma9/dataScienceBootcamp/blob/master/Week_03_Python_Libraries.ipynb\" target=\"_parent\"><img src=\"https://colab.research.google.com/assets/colab-badge.svg\" alt=\"Open In Colab\"/></a>"
      ]
    },
    {
      "cell_type": "markdown",
      "metadata": {
        "id": "2o4PI8WQ_jDt"
      },
      "source": [
        "# Week 03: Python libraries"
      ]
    },
    {
      "cell_type": "markdown",
      "metadata": {
        "id": "vtMRjvySFEyS"
      },
      "source": [
        "## Importing a module"
      ]
    },
    {
      "cell_type": "code",
      "metadata": {
        "id": "RhgztfkhFNEW",
        "outputId": "e9b220c4-ee6c-496e-b9f3-36416cb73440",
        "colab": {
          "base_uri": "https://localhost:8080/",
          "height": 367
        }
      },
      "source": [
        "# import the modules\n",
        "import numpy as np\n",
        "import panda as pd\n",
        "import matplotlib.pyplot as plt\n",
        "import seaborn as sns \n",
        "\n",
        "%matplotlib inline"
      ],
      "execution_count": 1,
      "outputs": [
        {
          "output_type": "error",
          "ename": "ModuleNotFoundError",
          "evalue": "ignored",
          "traceback": [
            "\u001b[0;31m---------------------------------------------------------------------------\u001b[0m",
            "\u001b[0;31mModuleNotFoundError\u001b[0m                       Traceback (most recent call last)",
            "\u001b[0;32m<ipython-input-1-398d8f888d1a>\u001b[0m in \u001b[0;36m<module>\u001b[0;34m()\u001b[0m\n\u001b[1;32m      1\u001b[0m \u001b[0;31m# import the modules\u001b[0m\u001b[0;34m\u001b[0m\u001b[0;34m\u001b[0m\u001b[0;34m\u001b[0m\u001b[0m\n\u001b[1;32m      2\u001b[0m \u001b[0;32mimport\u001b[0m \u001b[0mnumpy\u001b[0m \u001b[0;32mas\u001b[0m \u001b[0mnp\u001b[0m\u001b[0;34m\u001b[0m\u001b[0;34m\u001b[0m\u001b[0m\n\u001b[0;32m----> 3\u001b[0;31m \u001b[0;32mimport\u001b[0m \u001b[0mpanda\u001b[0m \u001b[0;32mas\u001b[0m \u001b[0mpd\u001b[0m\u001b[0;34m\u001b[0m\u001b[0;34m\u001b[0m\u001b[0m\n\u001b[0m\u001b[1;32m      4\u001b[0m \u001b[0;32mimport\u001b[0m \u001b[0mmatplotlib\u001b[0m\u001b[0;34m.\u001b[0m\u001b[0mpyplot\u001b[0m \u001b[0;32mas\u001b[0m \u001b[0mplt\u001b[0m\u001b[0;34m\u001b[0m\u001b[0;34m\u001b[0m\u001b[0m\n\u001b[1;32m      5\u001b[0m \u001b[0;32mimport\u001b[0m \u001b[0mseaborn\u001b[0m \u001b[0;32mas\u001b[0m \u001b[0msns\u001b[0m\u001b[0;34m\u001b[0m\u001b[0;34m\u001b[0m\u001b[0m\n",
            "\u001b[0;31mModuleNotFoundError\u001b[0m: No module named 'panda'",
            "",
            "\u001b[0;31m---------------------------------------------------------------------------\u001b[0;32m\nNOTE: If your import is failing due to a missing package, you can\nmanually install dependencies using either !pip or !apt.\n\nTo view examples of installing some common dependencies, click the\n\"Open Examples\" button below.\n\u001b[0;31m---------------------------------------------------------------------------\u001b[0m\n"
          ]
        }
      ]
    },
    {
      "cell_type": "markdown",
      "metadata": {
        "id": "aOlrFGCWKEP5"
      },
      "source": [
        "## Getting started with Numpy\n",
        "\n",
        "The Numpy documentation can be found [here](https://numpy.org/)"
      ]
    },
    {
      "cell_type": "code",
      "metadata": {
        "id": "pUYnvOuVJ9gO"
      },
      "source": [
        "# Create a simple array\n",
        "\n"
      ],
      "execution_count": null,
      "outputs": []
    },
    {
      "cell_type": "code",
      "metadata": {
        "id": "s3zA4_97rK5T"
      },
      "source": [
        "# Creating an array of ones\n",
        "\n"
      ],
      "execution_count": null,
      "outputs": []
    },
    {
      "cell_type": "code",
      "metadata": {
        "id": "NOeg0KTJrLH8"
      },
      "source": [
        "# What if we want a matrix with the same values?\n",
        "\n"
      ],
      "execution_count": null,
      "outputs": []
    },
    {
      "cell_type": "code",
      "metadata": {
        "id": "lrxzUPzXrLVQ"
      },
      "source": [
        "# Getting evenly spaced values within the range\n",
        "\n"
      ],
      "execution_count": null,
      "outputs": []
    },
    {
      "cell_type": "code",
      "metadata": {
        "id": "0khdnsmkrLq0"
      },
      "source": [
        "# Creating an evenly spaced array(?)\n",
        "\n",
        "\n",
        "\n",
        "# Question: How is it any different from arange?"
      ],
      "execution_count": null,
      "outputs": []
    },
    {
      "cell_type": "code",
      "metadata": {
        "id": "Ss-1Zs7PrL43"
      },
      "source": [
        "# Generating random numbers\n",
        "\n"
      ],
      "execution_count": null,
      "outputs": []
    },
    {
      "cell_type": "code",
      "metadata": {
        "id": "wFJvqalBrMFW"
      },
      "source": [
        "# Empty?\n",
        "\n"
      ],
      "execution_count": null,
      "outputs": []
    },
    {
      "cell_type": "markdown",
      "metadata": {
        "id": "LbqCIQJHKZAV"
      },
      "source": [
        "## Why Numpy and Pandas over regular Python arrays?"
      ]
    },
    {
      "cell_type": "markdown",
      "metadata": {
        "id": "K9MNb_RDKp9R"
      },
      "source": [
        "### Easier to assign values over a slice of an array\n",
        "\n"
      ]
    },
    {
      "cell_type": "code",
      "metadata": {
        "id": "YJxo9HW6KgLe"
      },
      "source": [
        "# Numpy array\n",
        "\n"
      ],
      "execution_count": null,
      "outputs": []
    },
    {
      "cell_type": "code",
      "metadata": {
        "id": "YytfM9WyK_wk"
      },
      "source": [
        ""
      ],
      "execution_count": null,
      "outputs": []
    },
    {
      "cell_type": "code",
      "metadata": {
        "id": "rEvys0o0K6IT"
      },
      "source": [
        ""
      ],
      "execution_count": null,
      "outputs": []
    },
    {
      "cell_type": "code",
      "metadata": {
        "id": "O4gMRK2SLGib"
      },
      "source": [
        "# Regular Python array\n",
        "\n"
      ],
      "execution_count": null,
      "outputs": []
    },
    {
      "cell_type": "code",
      "metadata": {
        "id": "b9GKKynNLLYX"
      },
      "source": [
        ""
      ],
      "execution_count": null,
      "outputs": []
    },
    {
      "cell_type": "markdown",
      "metadata": {
        "id": "zv7L5SxFLPvb"
      },
      "source": [
        "### ndarray slices, if modified will modify the original array as well"
      ]
    },
    {
      "cell_type": "code",
      "metadata": {
        "id": "PzAHP22QLbBP"
      },
      "source": [
        "# Numpy array slice\n",
        "\n"
      ],
      "execution_count": null,
      "outputs": []
    },
    {
      "cell_type": "code",
      "metadata": {
        "id": "jZZl1iL1LdPX"
      },
      "source": [
        ""
      ],
      "execution_count": null,
      "outputs": []
    },
    {
      "cell_type": "code",
      "metadata": {
        "id": "0ztpflstLdjO"
      },
      "source": [
        ""
      ],
      "execution_count": null,
      "outputs": []
    },
    {
      "cell_type": "code",
      "metadata": {
        "id": "LTl454BNLvV2"
      },
      "source": [
        ""
      ],
      "execution_count": null,
      "outputs": []
    },
    {
      "cell_type": "code",
      "metadata": {
        "id": "Idsh6Eq8Ld5O"
      },
      "source": [
        "# Regular python array slice\n",
        "\n"
      ],
      "execution_count": null,
      "outputs": []
    },
    {
      "cell_type": "code",
      "metadata": {
        "id": "V3mqMpoxLe1S"
      },
      "source": [
        ""
      ],
      "execution_count": null,
      "outputs": []
    },
    {
      "cell_type": "code",
      "metadata": {
        "id": "u04NpfLKL81H"
      },
      "source": [
        ""
      ],
      "execution_count": null,
      "outputs": []
    },
    {
      "cell_type": "markdown",
      "metadata": {
        "id": "fzdmEVvHKQd-"
      },
      "source": [
        "## Understanding Pandas with an Example\n",
        "\n",
        "The Pandas documentation can be found [here](https://pandas.pydata.org/)\n",
        "\n",
        "We will be understanding Pandas with the help of an example"
      ]
    },
    {
      "cell_type": "code",
      "metadata": {
        "id": "MsoPgsXaJ4HQ"
      },
      "source": [
        "from google.colab import files\n",
        "files.upload()"
      ],
      "execution_count": null,
      "outputs": []
    },
    {
      "cell_type": "markdown",
      "metadata": {
        "id": "fDTSn0yXZHQ1"
      },
      "source": [
        "### Initialization"
      ]
    },
    {
      "cell_type": "code",
      "metadata": {
        "id": "eaXRWc6EKS6Z"
      },
      "source": [
        "# Use pd.Series()\n",
        "\n"
      ],
      "execution_count": null,
      "outputs": []
    },
    {
      "cell_type": "code",
      "metadata": {
        "id": "g3kPYbEQZjJq"
      },
      "source": [
        "print('Data passed as a list')\n",
        "df_list = pd.DataFrame([['May1', 32], ['May2', 35], ['May3', 40], ['May4', 50]])\n",
        "print(df_list)"
      ],
      "execution_count": null,
      "outputs": []
    },
    {
      "cell_type": "code",
      "metadata": {
        "id": "Mu1gVthqZkF2"
      },
      "source": [
        "print('Data passed as dictionary')\n",
        "df_dict = pd.DataFrame({\"A\": [1, 2, 3], \"B\": [4, 5, 6]},dtype = float)\n",
        "print(df_dict)"
      ],
      "execution_count": null,
      "outputs": []
    },
    {
      "cell_type": "markdown",
      "metadata": {
        "id": "dA4DjbDjaWZb"
      },
      "source": [
        "### Column and Indexes\n",
        "\n",
        "In case of dictionary the keys would act as columns but in lists, the column names if not specified will start as '0' as the 1st column, '1' as the 2nd Column and so on.</br>\n",
        "The left most part of the dataframe is called as index, it's starts default with index 0."
      ]
    },
    {
      "cell_type": "code",
      "metadata": {
        "id": "Oq-vc7leZkUh"
      },
      "source": [
        "# Listing the columns\n",
        "\n"
      ],
      "execution_count": null,
      "outputs": []
    },
    {
      "cell_type": "code",
      "metadata": {
        "id": "WT-IymKsbKhF"
      },
      "source": [
        "# Rename columns\n",
        "\n",
        "\n",
        "# inplace by default is false\n",
        "# if inplace = True is not set then the changes are not made on the original df but only a temp df is made with changes\n"
      ],
      "execution_count": null,
      "outputs": []
    },
    {
      "cell_type": "code",
      "metadata": {
        "id": "ObK8r59dbK76"
      },
      "source": [
        "# changes made for original df\n",
        "\n"
      ],
      "execution_count": null,
      "outputs": []
    },
    {
      "cell_type": "code",
      "metadata": {
        "id": "SpaeNkcAbLLx"
      },
      "source": [
        "# Reset column names\n",
        "# Tip: remeber to pass the entire list in this case\n",
        "\n"
      ],
      "execution_count": null,
      "outputs": []
    },
    {
      "cell_type": "code",
      "metadata": {
        "id": "QoAh13umbLcE"
      },
      "source": [
        "# Defining columns, index during dataframe creation\n",
        "\n"
      ],
      "execution_count": null,
      "outputs": []
    },
    {
      "cell_type": "markdown",
      "metadata": {
        "id": "MNLqFd0vblkP"
      },
      "source": [
        "`reset_index`: To drop index and bring pandas default sequential form of 0, 1, ..."
      ]
    },
    {
      "cell_type": "code",
      "metadata": {
        "id": "_ZwIM_UzbmB3"
      },
      "source": [
        "# Here drop=True means we want to drop the original index we have and reset to default value\n",
        "\n"
      ],
      "execution_count": null,
      "outputs": []
    },
    {
      "cell_type": "code",
      "metadata": {
        "id": "v667rvBkbmv1"
      },
      "source": [
        "# We can also make a column as index\n",
        "\n"
      ],
      "execution_count": null,
      "outputs": []
    },
    {
      "cell_type": "code",
      "metadata": {
        "id": "jtDOQmptcoGH"
      },
      "source": [
        "# Reading data from a csv file\n",
        "# index_col describes which column we want to set as the index\n",
        "# head function is used to print first n rows of the dataframe, here n=10 in our case\n",
        "\n"
      ],
      "execution_count": null,
      "outputs": []
    },
    {
      "cell_type": "markdown",
      "metadata": {
        "id": "XhTjKGEic-eu"
      },
      "source": [
        "### Basic Data Statistics"
      ]
    },
    {
      "cell_type": "code",
      "metadata": {
        "id": "IDExAI99coX3"
      },
      "source": [
        "#describe function will compute basic statistics as shown below as for each column\n",
        "\n",
        "\n",
        "\n",
        "#Note: Stats are not calculated for object or string dtype"
      ],
      "execution_count": null,
      "outputs": []
    },
    {
      "cell_type": "code",
      "metadata": {
        "id": "Js2sjLuVconw"
      },
      "source": [
        "#Check the type of each column it will be Series datatype\n",
        "\n"
      ],
      "execution_count": null,
      "outputs": []
    },
    {
      "cell_type": "code",
      "metadata": {
        "id": "cttQ3XXadYJ8"
      },
      "source": [
        "# Value counts for type 2\n",
        "\n"
      ],
      "execution_count": null,
      "outputs": []
    },
    {
      "cell_type": "code",
      "metadata": {
        "id": "PTnYYnPUdYdM"
      },
      "source": [
        "# Calculate mean, max, min, std, sum\n",
        "\n"
      ],
      "execution_count": null,
      "outputs": []
    },
    {
      "cell_type": "markdown",
      "metadata": {
        "id": "Bk1EhCRddmA3"
      },
      "source": [
        "### Axis management\n",
        "\n",
        "axis denotes the dimension of dataframe. </br>\n",
        "axis = 0, also the axis of index/rows. Thus calculations are done at column level. </br>\n",
        "axis = 1, also axis of columns. Calculations are done for each row </br>\n",
        "For added clarity, you can specify axis='index' (instead of axis=0) or axis='columns' (instead of axis=1)."
      ]
    },
    {
      "cell_type": "code",
      "metadata": {
        "id": "EF8yk2j_dYq6"
      },
      "source": [
        "df_dummy = pd.DataFrame([[2,-2],[1,-1]])\n",
        "df_dummy"
      ],
      "execution_count": null,
      "outputs": []
    },
    {
      "cell_type": "code",
      "metadata": {
        "id": "WzYAhEcbd_mY"
      },
      "source": [
        "# summation on axis 0 or for each row\n",
        "\n",
        "df_dummy.sum(axis=0)"
      ],
      "execution_count": null,
      "outputs": []
    },
    {
      "cell_type": "code",
      "metadata": {
        "id": "bsShN686eADE"
      },
      "source": [
        "# summation on axis 1 or for each column\n",
        "\n",
        "df_dummy.sum(axis=1)"
      ],
      "execution_count": null,
      "outputs": []
    },
    {
      "cell_type": "markdown",
      "metadata": {
        "id": "iozcRmnCfIHL"
      },
      "source": [
        "### NaN\n",
        "\n",
        "NaN (Not a Number) is a special floating point number (like infinity) and is an indication of no data."
      ]
    },
    {
      "cell_type": "code",
      "metadata": {
        "id": "P4h9ltBZeAY7"
      },
      "source": [
        "df_nan = pd.DataFrame([{'a': 1, 'b': 2},{'a': 5, 'b': 10,'c':20}])\n",
        "print(df_nan)\n",
        "\n",
        "# Notice that column c is of type float due to NaN"
      ],
      "execution_count": null,
      "outputs": []
    },
    {
      "cell_type": "code",
      "metadata": {
        "id": "dp_yybCcfbqA"
      },
      "source": [
        "# isnull working - assigns each data point in the dataframe with True or False\n",
        "# return dataframe filled with True or False\n",
        "\n"
      ],
      "execution_count": null,
      "outputs": []
    },
    {
      "cell_type": "code",
      "metadata": {
        "id": "-tWv56HBfb8q"
      },
      "source": [
        "# To count how many NaN, use sum function on the result of isnull\n",
        "\n"
      ],
      "execution_count": null,
      "outputs": []
    },
    {
      "cell_type": "code",
      "metadata": {
        "id": "MkNIDwaigfsP"
      },
      "source": [
        "# Question: Which columns in the Pokemon data set have null values?\n",
        "\n"
      ],
      "execution_count": null,
      "outputs": []
    },
    {
      "cell_type": "markdown",
      "metadata": {
        "id": "iRCV0A74gvO5"
      },
      "source": [
        "### Data Manipulation"
      ]
    },
    {
      "cell_type": "code",
      "metadata": {
        "id": "5TrcWjvEgzVe"
      },
      "source": [
        "df = pd.DataFrame([['May1',32],['May2',35],['May3',40],['May4',50]],index = ['Day1','Day2','Day3','Day4'],columns = ['Month','Temperature'])"
      ],
      "execution_count": null,
      "outputs": []
    },
    {
      "cell_type": "code",
      "metadata": {
        "id": "Bve0XaUigzlh"
      },
      "source": [
        "# Access column by name\n",
        "\n"
      ],
      "execution_count": null,
      "outputs": []
    },
    {
      "cell_type": "code",
      "metadata": {
        "id": "GMFSKpAHgz1K"
      },
      "source": [
        "# Multiple column access\n",
        "\n"
      ],
      "execution_count": null,
      "outputs": []
    },
    {
      "cell_type": "code",
      "metadata": {
        "id": "_zLGu-PMg0kF"
      },
      "source": [
        "print(type(df.iloc[1]))\n",
        "print(df.iloc[1])"
      ],
      "execution_count": null,
      "outputs": []
    },
    {
      "cell_type": "code",
      "metadata": {
        "id": "WL9eLWkfidjZ"
      },
      "source": [
        "print('range of index wise selection in discrete manner')\n",
        "print(df.iloc[[1,2,3]])"
      ],
      "execution_count": null,
      "outputs": []
    },
    {
      "cell_type": "code",
      "metadata": {
        "id": "MW7z84ziid2r"
      },
      "source": [
        "print('Get single value')\n",
        "print(df.iloc[0,0])"
      ],
      "execution_count": null,
      "outputs": []
    },
    {
      "cell_type": "code",
      "metadata": {
        "id": "_VGJZ2M9ieHv"
      },
      "source": [
        "# Question: Select the first five columns of the Pokemon dataset\n",
        "\n"
      ],
      "execution_count": null,
      "outputs": []
    },
    {
      "cell_type": "code",
      "metadata": {
        "id": "zyIoRzhoiwD4"
      },
      "source": [
        "# Adding columns\n",
        "# Notice the difference\n",
        "\n",
        "add_column = pd.Series(['88 street','carlton ave','jay street','seneca'],index=['Day1','Day3','Day2','Day4'])\n",
        "df['Stations'] = add_column\n",
        "df['Stations2'] = pd.Series(['88 street','carlton ave','jay street','seneca'])\n",
        "print(df)\n",
        "print()\n",
        "\n",
        "# either specify index or add as python list instead of series\n",
        "df['Stations2'] = ['88 street','carlton ave','jay street','seneca']\n",
        "print(df)"
      ],
      "execution_count": null,
      "outputs": []
    },
    {
      "cell_type": "code",
      "metadata": {
        "id": "c-mIXtUbiwU7"
      },
      "source": [
        "# New column using existing column\n",
        "\n"
      ],
      "execution_count": null,
      "outputs": []
    },
    {
      "cell_type": "code",
      "metadata": {
        "id": "00pdSSVbiwh_"
      },
      "source": [
        "# Column addition (with same data type)\n",
        "\n"
      ],
      "execution_count": null,
      "outputs": []
    },
    {
      "cell_type": "code",
      "metadata": {
        "id": "ks6aL0ILiw67"
      },
      "source": [
        "# Changing values using loc/iloc\n",
        "\n"
      ],
      "execution_count": null,
      "outputs": []
    },
    {
      "cell_type": "code",
      "metadata": {
        "id": "qiFji4shjUeM"
      },
      "source": [
        "# drop function can be used to drop based on column or index \n",
        "\n",
        "df['Add_Temp_Wind'] = df['Temperature'] + df['Wind Speed']\n",
        "print(df)\n",
        "print()\n",
        "\n"
      ],
      "execution_count": null,
      "outputs": []
    },
    {
      "cell_type": "code",
      "metadata": {
        "id": "llW9g5aYjVNZ"
      },
      "source": [
        "# Drop row of a dataframe use drop function and pass the indexed index or name of that index\n",
        "\n",
        "\n",
        "# inplace=False"
      ],
      "execution_count": null,
      "outputs": []
    },
    {
      "cell_type": "code",
      "metadata": {
        "id": "0kMGuVZbjVaL"
      },
      "source": [
        "# By index name\n",
        "\n"
      ],
      "execution_count": null,
      "outputs": []
    },
    {
      "cell_type": "code",
      "metadata": {
        "id": "qSOYkDr3jklK"
      },
      "source": [
        "# Question: Select data for temperature and wind speed column by using the loc method\n",
        "# Hint: data.loc['Condition(s)']\n",
        "\n"
      ],
      "execution_count": null,
      "outputs": []
    },
    {
      "cell_type": "code",
      "metadata": {
        "id": "dT5o8WgCjr23"
      },
      "source": [
        "# Condition based filtering\n",
        "\n",
        "# Conditions generate a mask df of booleans which is used to select relevant rows from original dataframe\n",
        "\n"
      ],
      "execution_count": null,
      "outputs": []
    },
    {
      "cell_type": "code",
      "metadata": {
        "id": "KmSQhsLEjtFt"
      },
      "source": [
        "# Selection part\n",
        "\n"
      ],
      "execution_count": null,
      "outputs": []
    },
    {
      "cell_type": "code",
      "metadata": {
        "id": "ejbRhw8JjtcT"
      },
      "source": [
        "# Complex selection\n",
        "\n"
      ],
      "execution_count": null,
      "outputs": []
    },
    {
      "cell_type": "code",
      "metadata": {
        "id": "VV5ToWoyjt3h"
      },
      "source": [
        "# Question: What is the count of pokemon that have 'null' in type 2?\n",
        "\n"
      ],
      "execution_count": null,
      "outputs": []
    },
    {
      "cell_type": "code",
      "metadata": {
        "id": "6xlFkhb5juWa"
      },
      "source": [
        "# Getting unique values for column 'Type 1' with help of unique function\n",
        "# The return type is ndarray which consist of n rows an d columns \n",
        "# (18,) - Represents 18 rows and 1 column \n",
        "\n"
      ],
      "execution_count": null,
      "outputs": []
    },
    {
      "cell_type": "markdown",
      "metadata": {
        "id": "pZ3EPhlMlKgX"
      },
      "source": [
        "### Data cleanup"
      ]
    },
    {
      "cell_type": "code",
      "metadata": {
        "id": "vZcHOWr9lMys"
      },
      "source": [
        "# removing null containing rows\n",
        "\n",
        "\n",
        "\n",
        "# since inplace is not set, values/rows will not be removed"
      ],
      "execution_count": null,
      "outputs": []
    },
    {
      "cell_type": "code",
      "metadata": {
        "id": "aD8H5957lNDs"
      },
      "source": [
        "# Masking and use of loc\n",
        "# Converting to string datatype with astype\n",
        "\n"
      ],
      "execution_count": null,
      "outputs": []
    },
    {
      "cell_type": "markdown",
      "metadata": {
        "id": "kHLBHiyplefI"
      },
      "source": [
        "### Sort"
      ]
    },
    {
      "cell_type": "code",
      "metadata": {
        "id": "d98w6vfTlNRy"
      },
      "source": [
        "# Can assign one or more column for sorting\n",
        "# Return type is dataframe object\n",
        "\n",
        "pokemon_data.sort_values(by=['HP','Attack','Defense','Speed'],ascending = [False,True,False,True],inplace=True)\n",
        "pokemon_data.head()"
      ],
      "execution_count": null,
      "outputs": []
    },
    {
      "cell_type": "markdown",
      "metadata": {
        "id": "XELbuy2blrZX"
      },
      "source": [
        "### Groupby"
      ]
    },
    {
      "cell_type": "code",
      "metadata": {
        "id": "ZI740Q70l987"
      },
      "source": [
        "# Normal Group by\n",
        "\n",
        "\n",
        "# The above code displays the top row within each group."
      ],
      "execution_count": null,
      "outputs": []
    },
    {
      "cell_type": "code",
      "metadata": {
        "id": "_hxuBcWYlucC"
      },
      "source": [
        "# Aggregate Functions on groups\n",
        "\n"
      ],
      "execution_count": null,
      "outputs": []
    },
    {
      "cell_type": "code",
      "metadata": {
        "id": "n0madfCqluro"
      },
      "source": [
        "# groupby with more than 1 column order in which columns are specified is important\n",
        "\n"
      ],
      "execution_count": null,
      "outputs": []
    },
    {
      "cell_type": "markdown",
      "metadata": {
        "id": "Hcm9YcYQKTl7"
      },
      "source": [
        "## Data Visualization\n",
        "\n",
        "Access the Matplotlib documentation from [here](https://matplotlib.org/) and Seaborn documentation from [here](https://seaborn.pydata.org/)"
      ]
    },
    {
      "cell_type": "code",
      "metadata": {
        "id": "F6CIQst1nfQH"
      },
      "source": [
        "from google.colab import files\n",
        "files.upload()"
      ],
      "execution_count": null,
      "outputs": []
    },
    {
      "cell_type": "code",
      "metadata": {
        "id": "IulUcsJynmcB"
      },
      "source": [
        "# Read and display the file\n",
        "\n"
      ],
      "execution_count": null,
      "outputs": []
    },
    {
      "cell_type": "markdown",
      "metadata": {
        "id": "jDzbsa0qnAd_"
      },
      "source": [
        "### Seaborn's plotting functions"
      ]
    },
    {
      "cell_type": "code",
      "metadata": {
        "id": "QBen5lF4nSQJ"
      },
      "source": [
        "# Recommended way\n",
        "\n"
      ],
      "execution_count": null,
      "outputs": []
    },
    {
      "cell_type": "code",
      "metadata": {
        "id": "L8Pe6GEslu5X"
      },
      "source": [
        "# Scatterplot arguments\n",
        "\n"
      ],
      "execution_count": null,
      "outputs": []
    },
    {
      "cell_type": "markdown",
      "metadata": {
        "id": "IE2sElhqnDPZ"
      },
      "source": [
        "### Customizing with Matplotlib\n",
        "\n",
        "Matplotlib comes in handy when it comes to setting your axes limits. In order to do that -\n",
        "\n",
        "1. Invoke your seaborn plotting function as normal\n",
        "2. Invoke Matplotlib's customization functions. In this case, we will use its `ylim()` and `xlim()` functions"
      ]
    },
    {
      "cell_type": "code",
      "metadata": {
        "id": "g145w20UKWj3"
      },
      "source": [
        "# Plot using Seaborn\n",
        "\n"
      ],
      "execution_count": null,
      "outputs": []
    },
    {
      "cell_type": "markdown",
      "metadata": {
        "id": "zKJ40RO4p2nC"
      },
      "source": [
        "### Role of Pandas"
      ]
    },
    {
      "cell_type": "code",
      "metadata": {
        "id": "RBZmYXldp1i7"
      },
      "source": [
        "# boxplot\n",
        "\n"
      ],
      "execution_count": null,
      "outputs": []
    },
    {
      "cell_type": "code",
      "metadata": {
        "id": "izlEq9zcp1zy"
      },
      "source": [
        "# We can remove generation and Legendary as they are not combat stats\n",
        "\n",
        "# Pre-format dataframe\n",
        "\n",
        "\n",
        "# New boxplot\n"
      ],
      "execution_count": null,
      "outputs": []
    },
    {
      "cell_type": "markdown",
      "metadata": {
        "id": "974ieZ3tqpYF"
      },
      "source": [
        "### Histogram"
      ]
    },
    {
      "cell_type": "code",
      "metadata": {
        "id": "2Hyv8WIjqrqi"
      },
      "source": [
        ""
      ],
      "execution_count": null,
      "outputs": []
    }
  ]
}